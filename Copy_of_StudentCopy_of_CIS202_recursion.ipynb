{
  "cells": [
    {
      "cell_type": "markdown",
      "metadata": {
        "id": "view-in-github",
        "colab_type": "text"
      },
      "source": [
        "<a href=\"https://colab.research.google.com/github/ez-juicy/AP-CS-EZ/blob/master/Copy_of_StudentCopy_of_CIS202_recursion.ipynb\" target=\"_parent\"><img src=\"https://colab.research.google.com/assets/colab-badge.svg\" alt=\"Open In Colab\"/></a>"
      ]
    },
    {
      "cell_type": "markdown",
      "id": "af0fce85",
      "metadata": {
        "id": "af0fce85"
      },
      "source": [
        "# Recursion: a method calls itself\n",
        "\n",
        "### Base case(s)\n",
        "Values of the input variables for which we perform no recursive calls are called base cases (there should be at least one base case).\n",
        "Every possible chain of recursive calls must eventually reach a base case.\n",
        "###Recursive calls\n",
        "Calls to the current method.\n",
        "Each recursive call should be defined so that it makes progress towards a base case.\n",
        "\n"
      ]
    },
    {
      "cell_type": "markdown",
      "id": "3c45976d",
      "metadata": {
        "id": "3c45976d"
      },
      "source": [
        "## Example 1\n",
        "\n",
        "Here's an example of recursion from [this section of Think Python](https://greenteapress.com/thinkpython2/html/thinkpython2006.html#sec62)."
      ]
    },
    {
      "cell_type": "code",
      "execution_count": null,
      "id": "680f0927",
      "metadata": {
        "tags": [],
        "id": "680f0927"
      },
      "outputs": [],
      "source": [
        "def countdown(n):\n",
        "    if n == 0:\n",
        "        print('Blastoff!')\n",
        "    else:\n",
        "        print(n)\n",
        "        countdown(n-1)"
      ]
    },
    {
      "cell_type": "code",
      "execution_count": null,
      "id": "ca1913c3",
      "metadata": {
        "tags": [],
        "id": "ca1913c3",
        "colab": {
          "base_uri": "https://localhost:8080/"
        },
        "outputId": "7f267b6a-e2e7-4ade-df05-36e3890ac880"
      },
      "outputs": [
        {
          "output_type": "stream",
          "name": "stdout",
          "text": [
            "3\n",
            "2\n",
            "1\n",
            "Blastoff!\n"
          ]
        }
      ],
      "source": [
        "countdown(3)"
      ]
    },
    {
      "cell_type": "markdown",
      "id": "b8122d2f",
      "metadata": {
        "id": "b8122d2f"
      },
      "source": [
        "To understand recursion, it's important to have a good mental model of what happens when you run a function:\n",
        "\n",
        "1. Python interprets the arguments.\n",
        "\n",
        "2. It creates a stack frame, which will contain the parameters and local variables.\n",
        "\n",
        "3. Next it assigns the values of the arguments to the parameters.\n",
        "\n",
        "4. Python runs the body of the function.\n",
        "\n",
        "5. Then it recycles the stack frame.\n",
        "\n",
        "The runtime stack contains the stack frames of currently-running functions."
      ]
    },
    {
      "cell_type": "markdown",
      "id": "13be8c33",
      "metadata": {
        "id": "13be8c33"
      },
      "source": [
        "Here's a stack diagram that shows what happens when this `countdown` runs.\n",
        "\n",
        "<img src=\"https://greenteapress.com/thinkpython2/html/thinkpython2005.png\">"
      ]
    },
    {
      "cell_type": "markdown",
      "id": "d3656030",
      "metadata": {
        "id": "d3656030"
      },
      "source": [
        "**Exercise:** What happens if you run countdown with a negative number?  [See here for more info]()"
      ]
    },
    {
      "cell_type": "markdown",
      "source": [
        "## Example 2 Factorial\n"
      ],
      "metadata": {
        "id": "HEvblJKChxRY"
      },
      "id": "HEvblJKChxRY"
    },
    {
      "cell_type": "code",
      "execution_count": null,
      "id": "926b7e09",
      "metadata": {
        "id": "926b7e09",
        "colab": {
          "base_uri": "https://localhost:8080/"
        },
        "outputId": "d6fdfe00-2df0-4e6b-a370-fd5b9cfd0eaa"
      },
      "outputs": [
        {
          "output_type": "stream",
          "name": "stdout",
          "text": [
            "Installing collected packages: log_calls\n",
            "Successfully installed log_calls-0.3.2\n"
          ]
        }
      ],
      "source": [
        "! pip -q install log_calls\n"
      ]
    },
    {
      "cell_type": "code",
      "execution_count": null,
      "metadata": {
        "ExecuteTime": {
          "end_time": "2020-02-17T03:18:40.411619Z",
          "start_time": "2020-02-17T03:18:40.388965Z"
        },
        "id": "vpIEVbO0c6QW"
      },
      "outputs": [],
      "source": [
        "from log_calls import log_calls"
      ],
      "id": "vpIEVbO0c6QW"
    },
    {
      "cell_type": "code",
      "execution_count": null,
      "metadata": {
        "ExecuteTime": {
          "end_time": "2020-02-17T03:20:11.488750Z",
          "start_time": "2020-02-17T03:20:11.390904Z"
        },
        "id": "pEyf6NBQc6QX",
        "outputId": "233302dc-9042-45f4-9b3b-de9dcbf3239d",
        "colab": {
          "base_uri": "https://localhost:8080/"
        }
      },
      "outputs": [
        {
          "output_type": "stream",
          "name": "stdout",
          "text": [
            "fac <== called by <cell line: 10>\n",
            "    arguments: n=5\n",
            "    fac <== called by fac\n",
            "        arguments: n=4\n",
            "        fac <== called by fac\n",
            "            arguments: n=3\n",
            "            fac <== called by fac\n",
            "                arguments: n=2\n",
            "                fac <== called by fac\n",
            "                    arguments: n=1\n",
            "                fac ==> returning to fac\n",
            "            fac ==> returning to fac\n",
            "        fac ==> returning to fac\n",
            "    fac ==> returning to fac\n",
            "fac ==> returning to <cell line: 10>\n",
            "120\n"
          ]
        }
      ],
      "source": [
        "@log_calls()\n",
        "def fac(n):\n",
        "  # Fill up the code here"
      ],
      "id": "pEyf6NBQc6QX"
    },
    {
      "cell_type": "markdown",
      "metadata": {
        "id": "9a6-4SFfc6QY"
      },
      "source": [
        "<img src=\"https://user-images.githubusercontent.com/20944657/36638115-0d00e58e-1a2f-11e8-9c4c-beaae434c618.png\" with=400>"
      ],
      "id": "9a6-4SFfc6QY"
    },
    {
      "cell_type": "code",
      "source": [],
      "metadata": {
        "id": "qHSVPyCAgx3M"
      },
      "id": "qHSVPyCAgx3M",
      "execution_count": null,
      "outputs": []
    },
    {
      "cell_type": "markdown",
      "metadata": {
        "id": "Gb0pM-9_gx--"
      },
      "source": [
        "Here's the stack frame."
      ],
      "id": "Gb0pM-9_gx--"
    },
    {
      "cell_type": "markdown",
      "metadata": {
        "id": "xA52ZzaPgx--"
      },
      "source": [
        "<img src=\"https://greenteapress.com/thinkpython2/html/thinkpython2007.png\">"
      ],
      "id": "xA52ZzaPgx--"
    },
    {
      "cell_type": "markdown",
      "metadata": {
        "id": "sNuAM1r4c6QY"
      },
      "source": [
        "## Example 3 Linear sum"
      ],
      "id": "sNuAM1r4c6QY"
    },
    {
      "cell_type": "markdown",
      "metadata": {
        "id": "Yow4_02Bc6QY"
      },
      "source": [
        "<img src=\"https://media.geeksforgeeks.org/wp-content/uploads/5-3.jpg\">"
      ],
      "id": "Yow4_02Bc6QY"
    },
    {
      "cell_type": "code",
      "execution_count": null,
      "metadata": {
        "ExecuteTime": {
          "end_time": "2020-02-19T16:08:30.822700Z",
          "start_time": "2020-02-19T16:08:30.773563Z"
        },
        "id": "ywybsrDYc6QY",
        "outputId": "029b3acf-eca0-4471-857c-34b4dbabce4e",
        "colab": {
          "base_uri": "https://localhost:8080/"
        }
      },
      "outputs": [
        {
          "output_type": "stream",
          "name": "stdout",
          "text": [
            "linear_sum <== called by <cell line: 15>\n",
            "    arguments: S=[1, 2, 3, 4], n=4\n",
            "computing sum of  [1, 2, 3, 4] n= 4\n",
            "    linear_sum <== called by linear_sum\n",
            "        arguments: S=[1, 2, 3, 4], n=3\n",
            "computing sum of  [1, 2, 3] n= 3\n",
            "        linear_sum <== called by linear_sum\n",
            "            arguments: S=[1, 2, 3, 4], n=2\n",
            "computing sum of  [1, 2] n= 2\n",
            "        linear_sum ==> returning to linear_sum\n",
            "    linear_sum ==> returning to linear_sum\n",
            "linear_sum ==> returning to <cell line: 15>\n"
          ]
        },
        {
          "output_type": "execute_result",
          "data": {
            "text/plain": [
              "10"
            ]
          },
          "metadata": {},
          "execution_count": 4
        }
      ],
      "source": [
        "# https://media.geeksforgeeks.org/wp-content/uploads/5-3.jpg\n",
        "@log_calls()\n",
        "\n",
        "def linear_sum(S, n):\n",
        "  \"\"\"Return the sum of the first n numbers of sequence S.\"\"\"\n",
        "  print (\"computing sum of \" , S[:n], \"n=\", n)\n",
        "    # Fill up the code here\n",
        "\n",
        "\n",
        "\n",
        "\n",
        "\n",
        "linear_sum([1,2,3,4], 4)"
      ],
      "id": "ywybsrDYc6QY"
    },
    {
      "cell_type": "markdown",
      "metadata": {
        "id": "3uCheX9Dc6QY"
      },
      "source": [
        "## Example 4 Binary sum"
      ],
      "id": "3uCheX9Dc6QY"
    },
    {
      "cell_type": "code",
      "execution_count": null,
      "metadata": {
        "ExecuteTime": {
          "end_time": "2020-02-19T16:27:07.178898Z",
          "start_time": "2020-02-19T16:27:07.123580Z"
        },
        "id": "MsdmSSUtc6QZ",
        "outputId": "30c34c48-cdb9-4a14-e070-8411301f6b22",
        "colab": {
          "base_uri": "https://localhost:8080/"
        }
      },
      "outputs": [
        {
          "output_type": "stream",
          "name": "stdout",
          "text": [
            "S= [1, 2, 3, 4, 5, 6, 7, 8, 9] \n",
            "\n",
            "binary_sum <== called by <cell line: 16>\n",
            "    arguments: S=[1, 2, 3, 4, 5, 6, 7, 8, 9], start=0, stop=9\n",
            "Binary_sum for  [1, 2, 3, 4, 5, 6, 7, 8, 9] bounding index: 0 8\n",
            "    binary_sum <== called by binary_sum\n",
            "        arguments: S=[1, 2, 3, 4, 5, 6, 7, 8, 9], start=0, stop=4\n",
            "Binary_sum for  [1, 2, 3, 4] bounding index: 0 3\n",
            "        binary_sum <== called by binary_sum\n",
            "            arguments: S=[1, 2, 3, 4, 5, 6, 7, 8, 9], start=0, stop=2\n",
            "Binary_sum for  [1, 2] bounding index: 0 1\n",
            "            binary_sum <== called by binary_sum\n",
            "                arguments: S=[1, 2, 3, 4, 5, 6, 7, 8, 9], start=0, stop=1\n",
            "Binary_sum for  [1] bounding index: 0 0\n",
            "            binary_sum ==> returning to binary_sum\n",
            "            binary_sum <== called by binary_sum\n",
            "                arguments: S=[1, 2, 3, 4, 5, 6, 7, 8, 9], start=1, stop=2\n",
            "Binary_sum for  [2] bounding index: 1 1\n",
            "            binary_sum ==> returning to binary_sum\n",
            "        binary_sum ==> returning to binary_sum\n",
            "        binary_sum <== called by binary_sum\n",
            "            arguments: S=[1, 2, 3, 4, 5, 6, 7, 8, 9], start=2, stop=4\n",
            "Binary_sum for  [3, 4] bounding index: 2 3\n",
            "            binary_sum <== called by binary_sum\n",
            "                arguments: S=[1, 2, 3, 4, 5, 6, 7, 8, 9], start=2, stop=3\n",
            "Binary_sum for  [3] bounding index: 2 2\n",
            "            binary_sum ==> returning to binary_sum\n",
            "            binary_sum <== called by binary_sum\n",
            "                arguments: S=[1, 2, 3, 4, 5, 6, 7, 8, 9], start=3, stop=4\n",
            "Binary_sum for  [4] bounding index: 3 3\n",
            "            binary_sum ==> returning to binary_sum\n",
            "        binary_sum ==> returning to binary_sum\n",
            "    binary_sum ==> returning to binary_sum\n",
            "    binary_sum <== called by binary_sum\n",
            "        arguments: S=[1, 2, 3, 4, 5, 6, 7, 8, 9], start=4, stop=9\n",
            "Binary_sum for  [5, 6, 7, 8, 9] bounding index: 4 8\n",
            "        binary_sum <== called by binary_sum\n",
            "            arguments: S=[1, 2, 3, 4, 5, 6, 7, 8, 9], start=4, stop=6\n",
            "Binary_sum for  [5, 6] bounding index: 4 5\n",
            "            binary_sum <== called by binary_sum\n",
            "                arguments: S=[1, 2, 3, 4, 5, 6, 7, 8, 9], start=4, stop=5\n",
            "Binary_sum for  [5] bounding index: 4 4\n",
            "            binary_sum ==> returning to binary_sum\n",
            "            binary_sum <== called by binary_sum\n",
            "                arguments: S=[1, 2, 3, 4, 5, 6, 7, 8, 9], start=5, stop=6\n",
            "Binary_sum for  [6] bounding index: 5 5\n",
            "            binary_sum ==> returning to binary_sum\n",
            "        binary_sum ==> returning to binary_sum\n",
            "        binary_sum <== called by binary_sum\n",
            "            arguments: S=[1, 2, 3, 4, 5, 6, 7, 8, 9], start=6, stop=9\n",
            "Binary_sum for  [7, 8, 9] bounding index: 6 8\n",
            "            binary_sum <== called by binary_sum\n",
            "                arguments: S=[1, 2, 3, 4, 5, 6, 7, 8, 9], start=6, stop=7\n",
            "Binary_sum for  [7] bounding index: 6 6\n",
            "            binary_sum ==> returning to binary_sum\n",
            "            binary_sum <== called by binary_sum\n",
            "                arguments: S=[1, 2, 3, 4, 5, 6, 7, 8, 9], start=7, stop=9\n",
            "Binary_sum for  [8, 9] bounding index: 7 8\n",
            "                binary_sum <== called by binary_sum\n",
            "                    arguments: S=[1, 2, 3, 4, 5, 6, 7, 8, 9], start=7, stop=8\n",
            "Binary_sum for  [8] bounding index: 7 7\n",
            "                binary_sum ==> returning to binary_sum\n",
            "                binary_sum <== called by binary_sum\n",
            "                    arguments: S=[1, 2, 3, 4, 5, 6, 7, 8, 9], start=8, stop=9\n",
            "Binary_sum for  [9] bounding index: 8 8\n",
            "                binary_sum ==> returning to binary_sum\n",
            "            binary_sum ==> returning to binary_sum\n",
            "        binary_sum ==> returning to binary_sum\n",
            "    binary_sum ==> returning to binary_sum\n",
            "binary_sum ==> returning to <cell line: 16>\n"
          ]
        },
        {
          "output_type": "execute_result",
          "data": {
            "text/plain": [
              "45"
            ]
          },
          "metadata": {},
          "execution_count": 5
        }
      ],
      "source": [
        "@log_calls()\n",
        "def binary_sum(S, start, stop):\n",
        "  \"\"\"Return the sum of the numbers in\n",
        "  implicit slice S[start:stop].\"\"\"\n",
        "  print(\"Binary_sum for \", S[start:stop],\n",
        "        \"bounding index:\", start, stop-1)\n",
        "  if start >= stop:                      # zero elements in slice\n",
        "    return 0\n",
        "  elif start == stop-1:                  # one element in slice\n",
        "    return S[start]\n",
        "  else:                                  # two or more elements in slice\n",
        "    mid = (start + stop) // 2\n",
        "    return binary_sum(S, start, mid) + binary_sum(S, mid, stop)\n",
        "S = list(range(1,10))\n",
        "print(\"S=\", S, \"\\n\")\n",
        "binary_sum(S, 0, len(S))"
      ],
      "id": "MsdmSSUtc6QZ"
    },
    {
      "cell_type": "markdown",
      "metadata": {
        "id": "zxXgKTsac6QZ"
      },
      "source": [
        "```Python\n",
        "def binary_sum(S, start, stop):\n",
        "  \"\"\"Return the sum of the numbers in implicit slice S[start:stop].\"\"\"\n",
        "  if ?? :                      # zero elements in slice\n",
        "    pass\n",
        "  elif ??:                     # one element in slice\n",
        "    pass\n",
        "  else:                                  # two or more elements in slice\n",
        "    pass\n",
        "```\n"
      ],
      "id": "zxXgKTsac6QZ"
    },
    {
      "cell_type": "markdown",
      "metadata": {
        "id": "TgJCxH6Ec6QZ"
      },
      "source": [
        "## Example 5 Binary Search"
      ],
      "id": "TgJCxH6Ec6QZ"
    },
    {
      "cell_type": "markdown",
      "metadata": {
        "id": "Xy6xOhY0c6QZ"
      },
      "source": [
        "![figure-4 4](https://upload.wikimedia.org/wikipedia/commons/c/c1/Binary-search-work.gif)"
      ],
      "id": "Xy6xOhY0c6QZ"
    },
    {
      "cell_type": "markdown",
      "source": [],
      "metadata": {
        "id": "HOaRYqGkhV9w"
      },
      "id": "HOaRYqGkhV9w"
    },
    {
      "cell_type": "markdown",
      "source": [
        "\n",
        "\n",
        "\n",
        "- Recursive algorithm for searching in a sorted sequence.\n",
        "- Standard approach: Sequential search algorithm (runs in O(n) time).\n",
        "- Efficient approach: Binary search algorithm (for sorted and indexable sequences).\n",
        "\n",
        "Binary Search Algorithm:\n",
        "1. Initialize `low = 0` and `high = n-1`.\n",
        "2. Calculate the midpoint: `mid = floor((low + high) // 2)`.\n",
        "3. Compare the target value with `data[mid]`.\n",
        "  * If the target equals `data[mid]`, then we have found the item we are looking for, and the search terminates successfully.\n",
        "  * If `target < data[mid]`, then we recur on the first half of the sequence, indices from $(0, \\text{mid} -1)$.\n",
        "  * If `target > data[mid]`, then we recur on the second half of the sequence, indices from $(\\text{mid} +1, \\text{high})$\n",
        "\n",
        "\n",
        "Advantages of Binary Search:\n",
        "- Efficient for sorted sequences.\n",
        "- Reduces search space by half in each iteration.\n",
        "- Runs in O(log n) time complexity.\n",
        "\n",
        "---\n",
        "\n",
        "When `low > high`, means the sequence does not have the value we are finding.\n"
      ],
      "metadata": {
        "pycharm": {
          "metadata": false,
          "name": "#%% md\n",
          "is_executing": false
        },
        "id": "3IaVNnMmRdR9"
      },
      "id": "3IaVNnMmRdR9"
    },
    {
      "cell_type": "code",
      "execution_count": null,
      "outputs": [],
      "source": [
        "def binary_search(data, target, low, high):\n",
        "    \"\"\"\n",
        "    Return True if target is found in indicated portion of a Python list\n",
        "\n",
        "    The search only considers the portion from data[low] to data[high] inclusive.\n",
        "\n",
        "    :param data: sequence that value will be searched\n",
        "    :param target: value to find\n",
        "    :param low: lower bound of sequence's index\n",
        "    :param high: upper bound of sequence's index\n",
        "    :return:\n",
        "    \"\"\"\n",
        "\n",
        "\n",
        "\n",
        "\n",
        "\n",
        "      # Fill up the code here\n",
        "\n",
        "\n",
        "\n"
      ],
      "metadata": {
        "pycharm": {
          "metadata": false,
          "name": "#%%\n",
          "is_executing": false
        },
        "id": "qyhxc01nRdR9"
      },
      "id": "qyhxc01nRdR9"
    },
    {
      "cell_type": "markdown",
      "metadata": {
        "id": "xNVx9dPsc6QZ"
      },
      "source": [
        "### Q: Can you modify the base case and still make the algorithm work?"
      ],
      "id": "xNVx9dPsc6QZ"
    },
    {
      "cell_type": "code",
      "source": [],
      "metadata": {
        "id": "mB7C05rCsIfF"
      },
      "id": "mB7C05rCsIfF",
      "execution_count": null,
      "outputs": []
    },
    {
      "cell_type": "markdown",
      "source": [
        "\n",
        "### Analyzing Recursive Algorithms\n",
        "\n",
        "- Recursive algorithms account for operations performed within each function activation.\n",
        "- The number of operations for each activation is considered individually.\n",
        "- Overall number of operations is obtained by summing operations across all activations.\n",
        "\n",
        "General Approach:\n",
        "- Use recursion trace to understand the number of recursive activations and parameterizations.\n",
        "- Each recursive algorithm has a unique structure and form.\n",
        "\n",
        "### Binary Search Performance\n",
        "\n",
        "- Binary search algorithm executes a constant number of operations per recursive call.\n",
        "- Running time is proportional to the number of recursive calls performed.\n",
        "\n",
        "\n",
        "\n",
        "##### Proposition: The binary search algorithm runs in $O(\\log n)$ time for a sorted sequence with $n$ elements.\n"
      ],
      "metadata": {
        "pycharm": {
          "metadata": false,
          "name": "#%% md\n"
        },
        "id": "BPfqVuGwRdR-"
      },
      "id": "BPfqVuGwRdR-"
    },
    {
      "cell_type": "markdown",
      "source": [
        "----"
      ],
      "metadata": {
        "id": "nikjJbmihbJg"
      },
      "id": "nikjJbmihbJg"
    },
    {
      "cell_type": "markdown",
      "id": "5501bd21",
      "metadata": {
        "id": "5501bd21"
      },
      "source": [
        "**Exercise:** Suppose you want to raise a number, `x`, to an integer power, `k`. An efficient way to do that is:\n",
        "\n",
        "* If `k` is even, raise `x` to `k/2` and square it.\n",
        "\n",
        "* If `k` is odd, raise `x` to `(k-1)/2`, square it, and multiply by `x` one more time.\n",
        "\n",
        "Write a recursive function that implements this algorithm."
      ]
    },
    {
      "cell_type": "code",
      "execution_count": null,
      "id": "c4efae39",
      "metadata": {
        "id": "c4efae39"
      },
      "outputs": [],
      "source": []
    },
    {
      "cell_type": "code",
      "execution_count": null,
      "id": "305c176f",
      "metadata": {
        "id": "305c176f"
      },
      "outputs": [],
      "source": []
    },
    {
      "cell_type": "code",
      "execution_count": null,
      "id": "1d537011",
      "metadata": {
        "id": "1d537011"
      },
      "outputs": [],
      "source": []
    },
    {
      "cell_type": "markdown",
      "id": "52f8ff4a",
      "metadata": {
        "id": "52f8ff4a"
      },
      "source": [
        "- What is the order of growth of this algorithm?\n",
        "To keep it simple, suppose `k` is a power of two.\n",
        "How many times do we have to divide `k` by two before we get to 1?\n",
        "\n",
        "- Thinking about it in reverse, starting with 1, how many times do we have to double 1 before we get to `k`? In math notation, the question is\n",
        "\n",
        "$$2^y = k$$\n",
        "\n",
        "> where `y` is the unknown number of steps. Taking the log of both sides, base 2:\n",
        "\n",
        "$$y = log_2 k$$\n",
        "\n",
        "- In terms of order of growth, this algorithm is in `O(log k)`. We don't have to specify the base of the logarithm, because a log in one base is a constant multiple of a log in any other base."
      ]
    },
    {
      "cell_type": "markdown",
      "id": "2b004c03",
      "metadata": {
        "id": "2b004c03"
      },
      "source": [
        "## Example 6 Fibonacci\n",
        "\n",
        "Here's another example of recursion from [this section of Think Python](https://greenteapress.com/thinkpython2/html/thinkpython2007.html#sec76)."
      ]
    },
    {
      "cell_type": "markdown",
      "source": [
        "After factorial, the most common example of a recursively defined mathematical function is fibonacci, which has the following definition (see http://en.wikipedia.org/wiki/Fibonacci_number):\n",
        "\n",
        "\n",
        " \t \tfibonacci(0) = 0\n",
        " \t \tfibonacci(1) = 1\n",
        " \t \tfibonacci(n) = fibonacci(n−1) + fibonacci(n−2)\n"
      ],
      "metadata": {
        "id": "EIjPnPwYCsWH"
      },
      "id": "EIjPnPwYCsWH"
    },
    {
      "cell_type": "code",
      "execution_count": null,
      "id": "6e0b79eb",
      "metadata": {
        "tags": [],
        "id": "6e0b79eb"
      },
      "outputs": [],
      "source": [
        "def fibonacci(n):\n",
        "      # Fill up the code here\n",
        "\n",
        "\n",
        "\n",
        "\n"
      ]
    },
    {
      "cell_type": "code",
      "execution_count": null,
      "id": "d049364c",
      "metadata": {
        "tags": [],
        "id": "d049364c",
        "colab": {
          "base_uri": "https://localhost:8080/"
        },
        "outputId": "06a1b4fe-7451-4da6-8bb7-9a57edd3f0aa"
      },
      "outputs": [
        {
          "output_type": "stream",
          "name": "stdout",
          "text": [
            "4\n",
            "3\n",
            "2\n",
            "1\n",
            "0\n",
            "1\n",
            "2\n",
            "1\n",
            "0\n"
          ]
        },
        {
          "output_type": "execute_result",
          "data": {
            "text/plain": [
              "3"
            ]
          },
          "metadata": {},
          "execution_count": 6
        }
      ],
      "source": [
        "fibonacci(4)"
      ]
    },
    {
      "cell_type": "markdown",
      "id": "029884a3",
      "metadata": {
        "id": "029884a3"
      },
      "source": [
        "Here's a stack graph that shows all stack frames created during this function call.\n",
        "\n",
        "Note that these frames are not all on the stack at the same time."
      ]
    },
    {
      "cell_type": "markdown",
      "id": "fbb61c50",
      "metadata": {
        "id": "fbb61c50"
      },
      "source": [
        "<img src=\"https://greenteapress.com/thinkpython2/html/thinkpython2017.png\">"
      ]
    },
    {
      "cell_type": "markdown",
      "id": "365ece74",
      "metadata": {
        "id": "365ece74"
      },
      "source": [
        "Here's the [section from Think Python](https://greenteapress.com/thinkpython2/html/thinkpython2012.html#sec135) that shows how we can make fibonacci faster by \"memoizing\" it. That's not a typo; the word is really [memoize](https://en.wikipedia.org/wiki/Memoization)."
      ]
    },
    {
      "cell_type": "code",
      "execution_count": null,
      "id": "200c66d3",
      "metadata": {
        "tags": [],
        "id": "200c66d3"
      },
      "outputs": [],
      "source": [
        "known = {0:0, 1:1}\n",
        "\n",
        "def fibonacci_memo(n):\n",
        "    if n in known:\n",
        "        return known[n]\n",
        "\n",
        "    print(n)\n",
        "    res = fibonacci_memo(n-1) + fibonacci_memo(n-2)\n",
        "    known[n] = res\n",
        "    return res"
      ]
    },
    {
      "cell_type": "code",
      "execution_count": null,
      "id": "da2c92b5",
      "metadata": {
        "tags": [],
        "id": "da2c92b5",
        "colab": {
          "base_uri": "https://localhost:8080/"
        },
        "outputId": "0c93d6f6-34ba-458a-fb38-a42857d9b83f"
      },
      "outputs": [
        {
          "output_type": "stream",
          "name": "stdout",
          "text": [
            "4\n",
            "3\n",
            "2\n"
          ]
        },
        {
          "output_type": "execute_result",
          "data": {
            "text/plain": [
              "3"
            ]
          },
          "metadata": {},
          "execution_count": 8
        }
      ],
      "source": [
        "fibonacci_memo(4)"
      ]
    },
    {
      "cell_type": "markdown",
      "source": [
        "## Example 7 [Tower of hanoi](https://upload.wikimedia.org/wikipedia/commons/6/60/Tower_of_Hanoi_4.gif)\n",
        "\n",
        "![](https://upload.wikimedia.org/wikipedia/commons/thumb/0/07/Tower_of_Hanoi.jpeg/600px-Tower_of_Hanoi.jpeg)\n",
        "\n",
        "- Object of the game is to move all the disks over to Tower 3\n",
        "- But you cannot place a larger disk onto a smaller disk at **any** moment."
      ],
      "metadata": {
        "id": "8rg0HRQsBaCe"
      },
      "id": "8rg0HRQsBaCe"
    },
    {
      "cell_type": "code",
      "source": [],
      "metadata": {
        "id": "U0jpQAwUmB5p"
      },
      "id": "U0jpQAwUmB5p",
      "execution_count": null,
      "outputs": []
    },
    {
      "cell_type": "markdown",
      "id": "af40054a",
      "metadata": {
        "id": "af40054a"
      },
      "source": [
        "**Exercise:** The [Ackermann function](http://en.wikipedia.org/wiki/Ackermann_function), $A(m, n)$, is defined:\n",
        "\n",
        "$$\n",
        "A(m, n) = \\begin{cases}\n",
        "              n+1 & \\mbox{if } m = 0 \\\\\n",
        "        A(m-1, 1) & \\mbox{if } m > 0 \\mbox{ and } n = 0 \\\\\n",
        "A(m-1, A(m, n-1)) & \\mbox{if } m > 0 \\mbox{ and } n > 0.\n",
        "\\end{cases}\n",
        "$$\n",
        "\n",
        "Write a function named `ackermann` that evaluates the Ackermann function.\n",
        "Use your function to evaluate `ackermann(3, 4)`, which should be 125.\n",
        "\n",
        "What happens for larger values of `m` and `n`?\n",
        "\n",
        "If you memoize it, can you evaluate the function with bigger values?"
      ]
    },
    {
      "cell_type": "code",
      "execution_count": null,
      "id": "cb5278e3",
      "metadata": {
        "id": "cb5278e3"
      },
      "outputs": [],
      "source": []
    },
    {
      "cell_type": "code",
      "execution_count": null,
      "id": "f9b3e242",
      "metadata": {
        "id": "f9b3e242"
      },
      "outputs": [],
      "source": []
    },
    {
      "cell_type": "code",
      "execution_count": null,
      "id": "55a561a7",
      "metadata": {
        "id": "55a561a7"
      },
      "outputs": [],
      "source": []
    },
    {
      "cell_type": "code",
      "execution_count": null,
      "id": "a38fbc58",
      "metadata": {
        "id": "a38fbc58"
      },
      "outputs": [],
      "source": []
    },
    {
      "cell_type": "markdown",
      "id": "fd5c67a1",
      "metadata": {
        "id": "fd5c67a1"
      },
      "source": [
        "## Example 8 String functions\n",
        "\n",
        "Many things we do iteratively can be expressed recursively as well."
      ]
    },
    {
      "cell_type": "code",
      "execution_count": null,
      "id": "ceea0cb3",
      "metadata": {
        "tags": [],
        "id": "ceea0cb3"
      },
      "outputs": [],
      "source": [
        "def reverse(s):\n",
        "    if len(s) < 2:\n",
        "        return s\n",
        "\n",
        "    first, rest = s[0], s[1:]\n",
        "    return reverse(rest) + first"
      ]
    },
    {
      "cell_type": "code",
      "execution_count": null,
      "id": "7f033242",
      "metadata": {
        "tags": [],
        "id": "7f033242"
      },
      "outputs": [],
      "source": [
        "reverse('reverse')"
      ]
    },
    {
      "cell_type": "markdown",
      "id": "2b69c809",
      "metadata": {
        "id": "2b69c809"
      },
      "source": [
        "For sequences and mapping types, there's usually no advantage of the recursive version. But for trees and graphs, a recursive implementation can be clearer, more concise, and more demonstrably correct."
      ]
    },
    {
      "cell_type": "markdown",
      "id": "39577761",
      "metadata": {
        "id": "39577761"
      },
      "source": [
        "**Exercise:** Here's an exercise from, of all places, [StackOverflow](https://stackoverflow.com/questions/28977737/writing-a-recursive-string-function):\n",
        "\n",
        "> Write a recursive, string-valued function, `replace`, that accepts a string and returns a new string consisting of the original string with each blank replaced with an asterisk (*)\n",
        ">\n",
        "> Replacing the blanks in a string involves:\n",
        ">\n",
        "> 1. Nothing if the string is empty\n",
        ">\n",
        "> 2. Otherwise: If the first character is not a blank, simply concatenate it with the result of replacing the rest of the string\n",
        ">\n",
        "> 3. If the first character IS a blank, concatenate an * with the result of replacing the rest of the string\n"
      ]
    },
    {
      "cell_type": "code",
      "execution_count": null,
      "id": "cdfe44c6",
      "metadata": {
        "id": "cdfe44c6"
      },
      "outputs": [],
      "source": []
    },
    {
      "cell_type": "code",
      "execution_count": null,
      "id": "f8e5fdbe",
      "metadata": {
        "id": "f8e5fdbe"
      },
      "outputs": [],
      "source": []
    },
    {
      "cell_type": "markdown",
      "id": "97ece24e",
      "metadata": {
        "id": "97ece24e"
      },
      "source": [
        "## Exercises"
      ]
    },
    {
      "cell_type": "markdown",
      "id": "8a0380a7",
      "metadata": {
        "id": "8a0380a7"
      },
      "source": [
        "This one is from [Structure and Interpretation of Computer Programs](https://mitpress.mit.edu/sites/default/files/sicp/index.html):\n",
        "\n",
        "> The greatest common divisor (GCD) of two integers `a` and `b` is defined to be the largest integer that divides both `a` and `b` with no remainder. For example, the GCD of 16 and 28 is 4. [...] One way to find the GCD of two integers is to factor them and search for common factors, but there is a [famous algorithm](https://en.wikipedia.org/wiki/Euclidean_algorithm) that is much more efficient.\n",
        ">\n",
        "> The idea of the algorithm is based on the observation that, if `r` is the remainder when `a` is divided by `b`, then the common divisors of `a` and `b` are precisely the same as the common divisors of `b` and `r`.\n",
        ">\n",
        "> Thus, we can use the equation\n",
        ">\n",
        "> $$GCD(a, b) = GCD(b, r)$$\n",
        ">\n",
        ">to successively reduce the problem of computing a GCD to the problem of computing the GCD of smaller and smaller pairs of integers.\n",
        ">\n",
        "> It is possible to show that starting with any two positive integers and performing repeated reductions will always eventually produce a pair where the second number is 0. Then the GCD is the other number in the pair.\n",
        "\n",
        "Write a function called `gcd` that takes two integers and uses this algorithm to compute their greatest common divisor."
      ]
    },
    {
      "cell_type": "code",
      "execution_count": null,
      "id": "51bce3ad",
      "metadata": {
        "id": "51bce3ad"
      },
      "outputs": [],
      "source": []
    },
    {
      "cell_type": "code",
      "execution_count": null,
      "id": "e00ef245",
      "metadata": {
        "id": "e00ef245"
      },
      "outputs": [],
      "source": []
    },
    {
      "cell_type": "markdown",
      "id": "9f61ddfc",
      "metadata": {
        "id": "9f61ddfc"
      },
      "source": [
        "This one is from [Structure and Interpretation of Computer Programs](https://mitpress.mit.edu/sites/default/files/sicp/index.html):\n",
        "\n",
        "> How many different ways can we make change of \\$1.00, given half-dollars, quarters, dimes, nickels, and pennies? [...]\n",
        ">\n",
        ">[...] Suppose we think of the types of coins available as arranged in some order. [..] observe that the ways to make change can be divided into two groups: those that do not use any of the first kind of coin, and those that do. Therefore, the total number of ways to make change for some amount is equal to the number of ways to make change for the amount without using any of the first kind of coin, plus the number of ways to make change assuming that we do use the first kind of coin.\n",
        "\n",
        "Write a function that takes as parameters an amount of money in cents and a sequence of coin denominations. It should return the number of combinations of coins that add up to the given amount.\n",
        "\n",
        "The result for one dollar (`100` cents) with coins of denominations `(50, 25, 10, 5, 1)` should be `292`.\n",
        "\n",
        "You might have to give some thought to the base cases."
      ]
    },
    {
      "cell_type": "code",
      "execution_count": null,
      "id": "62c10987",
      "metadata": {
        "id": "62c10987"
      },
      "outputs": [],
      "source": []
    },
    {
      "cell_type": "code",
      "execution_count": null,
      "id": "4b89658b",
      "metadata": {
        "id": "4b89658b"
      },
      "outputs": [],
      "source": []
    },
    {
      "cell_type": "markdown",
      "id": "0596803c",
      "metadata": {
        "id": "0596803c"
      },
      "source": [
        "**Exercise:** Here's one of my favorite Car Talk Puzzlers (http://www.cartalk.com/content/puzzlers):\n",
        "\n",
        ">What is the longest English word, that remains a valid English word, as you remove its letters one at a time?\n",
        ">\n",
        ">Now, letters can be removed from either end, or the middle, but you can’t rearrange any of the letters. Every time you drop a letter, you wind up with another English word. If you do that, you’re eventually going to wind up with one letter and that too is going to be an English word—one that’s found in the dictionary. I want to know what’s the longest word and how many letters does it have?\n",
        ">\n",
        ">I’m going to give you a little modest example: Sprite. Ok? You start off with sprite, you take a letter off, one from the interior of the word, take the r away, and we’re left with the word spite, then we take the e off the end, we’re left with spit, we take the s off, we’re left with pit, it, and I.\n",
        "\n",
        "Write a program to find all words that can be reduced in this way, and then find the longest one.\n",
        "\n",
        "This exercise is a little more challenging than most, so here are some suggestions:\n",
        "\n",
        "* You might want to write a function that takes a word and computes a list of all the words that can be formed by removing one letter. These are the “children” of the word.\n",
        "    \n",
        "* Recursively, a word is reducible if any of its children are reducible. As base cases, you can consider the single letter words “I”, “a” to be reducible.\n",
        "    \n",
        "* To improve the performance of your program, you might want to memoize the words that are known to be reducible."
      ]
    },
    {
      "cell_type": "code",
      "execution_count": null,
      "id": "2a6a1f2c",
      "metadata": {
        "id": "2a6a1f2c"
      },
      "outputs": [],
      "source": [
        "from os.path import basename, exists\n",
        "\n",
        "def download(url):\n",
        "    filename = basename(url)\n",
        "    if not exists(filename):\n",
        "        from urllib.request import urlretrieve\n",
        "        local, _ = urlretrieve(url, filename)\n",
        "        print('Downloaded ' + local)\n",
        "\n",
        "download('https://github.com/AllenDowney/DSIRP/raw/main/american-english')"
      ]
    },
    {
      "cell_type": "code",
      "execution_count": null,
      "id": "b1abe9e3",
      "metadata": {
        "id": "b1abe9e3"
      },
      "outputs": [],
      "source": [
        "def read_words(filename):\n",
        "    \"\"\"Read lines from a file and split them into words.\"\"\"\n",
        "    res = set()\n",
        "    for line in open(filename):\n",
        "        for word in line.split():\n",
        "            res.add(word.strip().lower())\n",
        "    return res"
      ]
    },
    {
      "cell_type": "code",
      "execution_count": null,
      "id": "07100ed0",
      "metadata": {
        "id": "07100ed0"
      },
      "outputs": [],
      "source": [
        "word_set = read_words('american-english')\n",
        "len(word_set)"
      ]
    },
    {
      "cell_type": "code",
      "execution_count": null,
      "id": "1e8ecbff",
      "metadata": {
        "id": "1e8ecbff"
      },
      "outputs": [],
      "source": []
    },
    {
      "cell_type": "code",
      "execution_count": null,
      "id": "17ffca66",
      "metadata": {
        "id": "17ffca66"
      },
      "outputs": [],
      "source": []
    },
    {
      "cell_type": "code",
      "execution_count": null,
      "id": "142591b4",
      "metadata": {
        "tags": [],
        "id": "142591b4"
      },
      "outputs": [],
      "source": []
    },
    {
      "cell_type": "code",
      "execution_count": null,
      "id": "b0764433",
      "metadata": {
        "tags": [],
        "id": "b0764433"
      },
      "outputs": [],
      "source": []
    },
    {
      "cell_type": "code",
      "execution_count": null,
      "id": "af0a7034",
      "metadata": {
        "tags": [],
        "id": "af0a7034"
      },
      "outputs": [],
      "source": []
    },
    {
      "cell_type": "code",
      "execution_count": null,
      "id": "234ac5fa",
      "metadata": {
        "tags": [],
        "id": "234ac5fa"
      },
      "outputs": [],
      "source": []
    },
    {
      "cell_type": "code",
      "execution_count": null,
      "id": "aac76078",
      "metadata": {
        "tags": [],
        "id": "aac76078"
      },
      "outputs": [],
      "source": []
    },
    {
      "cell_type": "code",
      "execution_count": null,
      "id": "1186d411",
      "metadata": {
        "id": "1186d411"
      },
      "outputs": [],
      "source": []
    },
    {
      "cell_type": "markdown",
      "id": "28320e58",
      "metadata": {
        "id": "28320e58"
      },
      "source": [
        "*Data Structures and Information Retrieval in Python*\n",
        "\n",
        "Copyright 2021 Allen Downey\n",
        "\n",
        "License: [Creative Commons Attribution-NonCommercial-ShareAlike 4.0 International](https://creativecommons.org/licenses/by-nc-sa/4.0/)"
      ]
    }
  ],
  "metadata": {
    "celltoolbar": "Tags",
    "kernelspec": {
      "display_name": "Python 3 (ipykernel)",
      "language": "python",
      "name": "python3"
    },
    "language_info": {
      "codemirror_mode": {
        "name": "ipython",
        "version": 3
      },
      "file_extension": ".py",
      "mimetype": "text/x-python",
      "name": "python",
      "nbconvert_exporter": "python",
      "pygments_lexer": "ipython3",
      "version": "3.10.1"
    },
    "colab": {
      "provenance": [],
      "include_colab_link": true
    }
  },
  "nbformat": 4,
  "nbformat_minor": 5
}