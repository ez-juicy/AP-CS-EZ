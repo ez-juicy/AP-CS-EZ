{
  "cells": [
    {
      "cell_type": "markdown",
      "metadata": {
        "id": "view-in-github",
        "colab_type": "text"
      },
      "source": [
        "<a href=\"https://colab.research.google.com/github/ez-juicy/AP-CS-EZ/blob/master/StudentCopy_of_CIS202_Sorting_1.ipynb\" target=\"_parent\"><img src=\"https://colab.research.google.com/assets/colab-badge.svg\" alt=\"Open In Colab\"/></a>"
      ]
    },
    {
      "cell_type": "markdown",
      "metadata": {
        "id": "xycd7hVcZf2C"
      },
      "source": [
        "## Sorting/Searching Algorithm Analysis (I)"
      ]
    },
    {
      "cell_type": "markdown",
      "metadata": {
        "id": "yBiXQoRdZf2D"
      },
      "source": [
        "## BubbleSort\n",
        "\n",
        "- Text:\n",
        "\n",
        ">- https://runestone.academy/runestone/books/published/pythonds/SortSearch/TheBubbleSort.html\n",
        ">\n",
        ">- https://www.geeksforgeeks.org/bubble-sort/\n",
        "\n",
        "- Animation\n",
        "\n",
        ">- https://github.com/raywenderlich/swift-algorithm-club/tree/master/Bubble%20Sort\n",
        ">\n",
        ">- https://codepumpkin.com/bubble-sort/\n"
      ]
    },
    {
      "cell_type": "markdown",
      "source": [
        "<img src=\"https://cis102.guihang.org/img/bubble.gif\">"
      ],
      "metadata": {
        "id": "ryDw1flWasVn"
      }
    },
    {
      "cell_type": "code",
      "execution_count": null,
      "metadata": {
        "id": "6o46oMcOZf2D"
      },
      "outputs": [],
      "source": [
        "x = 34\n",
        "y = 23\n",
        "#---\n",
        "t = x\n",
        "x = y\n",
        "y = t\n",
        "\n",
        "x,y = y,x"
      ]
    },
    {
      "cell_type": "code",
      "execution_count": null,
      "metadata": {
        "ExecuteTime": {
          "end_time": "2020-03-02T16:08:26.160641Z",
          "start_time": "2020-03-02T16:08:26.087573Z"
        },
        "id": "hSael4_mZf2D",
        "outputId": "fe73a4f9-c093-4409-dde8-0d76597aff8c"
      },
      "outputs": [
        {
          "name": "stdout",
          "output_type": "stream",
          "text": [
            "Before Sorting:[54, 26, 93, 17, 77, 31, 44, 55, 20]\n",
            "After Pass8 -  [26, 54, 17, 77, 31, 44, 55, 20, 93]\n",
            "After Pass7 -  [26, 17, 54, 31, 44, 55, 20, 77, 93]\n",
            "After Pass6 -  [17, 26, 31, 44, 54, 20, 55, 77, 93]\n",
            "After Pass5 -  [17, 26, 31, 44, 20, 54, 55, 77, 93]\n",
            "After Pass4 -  [17, 26, 31, 20, 44, 54, 55, 77, 93]\n",
            "After Pass3 -  [17, 26, 20, 31, 44, 54, 55, 77, 93]\n",
            "After Pass2 -  [17, 20, 26, 31, 44, 54, 55, 77, 93]\n",
            "after sorting -  [17, 20, 26, 31, 44, 54, 55, 77, 93]\n"
          ]
        }
      ],
      "source": [
        "def bubbleSort(alist):\n",
        "\n",
        "    for passnum in range(len(alist)-1,0,-1):\n",
        "        swapped = False\n",
        "        for i in range(passnum):\n",
        "            if alist[i]>alist[i+1]:\n",
        "                temp = alist[i]\n",
        "                alist[i] = alist[i+1]\n",
        "                alist[i+1] = temp\n",
        "                swapped = True\n",
        "        if not swapped: break\n",
        "        print(f\"After Pass{passnum} -  {alist}\")\n",
        "\n",
        "aList = [54,26,93,17,77,31,44,55,20]\n",
        "print(f\"Before Sorting:{aList}\")\n",
        "bubbleSort(aList)\n",
        "print(\"after sorting - \", aList)"
      ]
    },
    {
      "cell_type": "code",
      "execution_count": null,
      "metadata": {
        "ExecuteTime": {
          "end_time": "2020-03-02T04:50:03.339669Z",
          "start_time": "2020-03-02T04:50:03.332906Z"
        },
        "id": "vDOvPrRVZf2E",
        "outputId": "1b7c6cd1-b60b-4aac-aff8-327a5be5c693"
      },
      "outputs": [
        {
          "name": "stdout",
          "output_type": "stream",
          "text": [
            "[17, 20, 26, 31, 44, 54, 55, 77, 93]\n"
          ]
        }
      ],
      "source": [
        "def shortBubbleSort(alist):\n",
        "    exchanges = True\n",
        "    passnum = len(alist)-1\n",
        "    while passnum > 0 and exchanges:\n",
        "       exchanges = False\n",
        "       for i in range(passnum):\n",
        "           if alist[i]>alist[i+1]:\n",
        "               exchanges = True\n",
        "               temp = alist[i]\n",
        "               alist[i] = alist[i+1]\n",
        "               alist[i+1] = temp\n",
        "       passnum = passnum-1\n",
        "\n",
        "aList = [17, 20, 26, 31, 44, 54, 55, 77, 93]\n",
        "shortBubbleSort(aList)\n",
        "print(aList)\n"
      ]
    },
    {
      "cell_type": "markdown",
      "metadata": {
        "id": "7jifyQXLZf2E"
      },
      "source": [
        "## Selection Sort\n",
        "\n",
        "- Text\n",
        "\n",
        ">- https://runestone.academy/runestone/books/published/pythonds/SortSearch/TheSelectionSort.html\n",
        ">- https://www.geeksforgeeks.org/python-program-for-selection-sort/\n",
        "\n",
        "- Animation\n",
        "\n",
        ">- https://codepumpkin.com/selection-sort-algorithms/\n"
      ]
    },
    {
      "cell_type": "markdown",
      "source": [
        "<img src=\"https://cis102.guihang.org/img/selectionSort.gif\">"
      ],
      "metadata": {
        "id": "XLpx8Lj0ciCW"
      }
    },
    {
      "cell_type": "code",
      "execution_count": null,
      "metadata": {
        "ExecuteTime": {
          "end_time": "2020-03-02T05:08:17.051796Z",
          "start_time": "2020-03-02T05:08:17.042491Z"
        },
        "id": "-HYrvE1eZf2E",
        "outputId": "b4f9a385-f01f-41d7-817b-1cf8af3803ca"
      },
      "outputs": [
        {
          "name": "stdout",
          "output_type": "stream",
          "text": [
            "[17, 20, 26, 31, 44, 54, 55, 77, 93]\n"
          ]
        }
      ],
      "source": [
        "def findMaxLoc(alist):\n",
        "       positionOfMax=0\n",
        "       for location in range(1,len(alist)):\n",
        "           if alist[location]>alist[positionOfMax]:\n",
        "               positionOfMax = location\n",
        "       return positionOfMax\n",
        "\n",
        "def selectionSort1(alist):\n",
        "   for fillslot in range(len(alist)-1,0,-1):\n",
        "       positionOfMax=findMaxLoc(alist[:fillslot+1])\n",
        "\n",
        "       temp = alist[fillslot]\n",
        "       alist[fillslot] = alist[positionOfMax]\n",
        "       alist[positionOfMax] = temp\n",
        "\n",
        "aList = [54,26,93,17,77,31,44,55,20]\n",
        "selectionSort1(aList)\n",
        "print(aList)"
      ]
    },
    {
      "cell_type": "code",
      "execution_count": null,
      "metadata": {
        "ExecuteTime": {
          "end_time": "2020-03-02T05:06:58.435200Z",
          "start_time": "2020-03-02T05:06:41.246618Z"
        },
        "id": "1ISK5e1IZf2E"
      },
      "outputs": [],
      "source": [
        "%debug"
      ]
    },
    {
      "cell_type": "code",
      "execution_count": null,
      "metadata": {
        "ExecuteTime": {
          "end_time": "2020-03-02T04:43:59.286291Z",
          "start_time": "2020-03-02T04:43:59.278065Z"
        },
        "id": "kO1XndYWZf2E",
        "outputId": "e37b163a-07c9-4bcf-bd69-bf4ff3ca81dc"
      },
      "outputs": [
        {
          "name": "stdout",
          "output_type": "stream",
          "text": [
            "[17, 20, 26, 31, 44, 54, 55, 77, 93]\n"
          ]
        }
      ],
      "source": [
        "def selectionSort(alist):\n",
        "   for fillslot in range(len(alist)-1,0,-1):\n",
        "       positionOfMax=0\n",
        "       for location in range(1,fillslot+1):\n",
        "           if alist[location]>alist[positionOfMax]:\n",
        "               positionOfMax = location\n",
        "\n",
        "       temp = alist[fillslot]\n",
        "       alist[fillslot] = alist[positionOfMax]\n",
        "       alist[positionOfMax] = temp\n",
        "\n",
        "aList = [54,26,93,17,77,31,44,55,20]\n",
        "selectionSort(aList)\n",
        "print(aList)"
      ]
    },
    {
      "cell_type": "markdown",
      "source": [
        "### From the code, we can see that the time complexity for selection sort is $O(n^2)$ and space complexity is O(1) .\n",
        "\n"
      ],
      "metadata": {
        "id": "LWG180yDgnOC"
      }
    },
    {
      "cell_type": "markdown",
      "metadata": {
        "id": "P8Fo8s31Zf2E"
      },
      "source": [
        "## Insertion Sort\n",
        "\n",
        "- Text\n",
        "\n",
        ">- https://www.geeksforgeeks.org/insertion-sort/\n",
        ">\n",
        ">- https://runestone.academy/runestone/books/published/pythonds/SortSearch/TheInsertionSort.html\n",
        "\n",
        "- Animation\n",
        "\n",
        ">- https://commons.wikimedia.org/wiki/File:Insertion-sort-example.gif\n"
      ]
    },
    {
      "cell_type": "markdown",
      "source": [
        "- Time Complexity:\n",
        "    - Worst/average case: $O(N^2)$\n",
        "    - Best case: $O(N)$\n",
        "- Auxiliary Space: $(1)$\n",
        "\n",
        "**Properties:**\n",
        "- Efficient for small data values\n",
        "- An in-place sorting algorithm\n",
        "- Useful when the input array is almost sorted, and only a few elements are misplaced in a complete big array.\n"
      ],
      "metadata": {
        "id": "BZxeFAsl0RHY"
      }
    },
    {
      "cell_type": "markdown",
      "source": [
        "<img src=\"https://cis102.guihang.org/img/Insertion-sort-example.gif\">"
      ],
      "metadata": {
        "id": "vx3xhXx50DoR"
      }
    },
    {
      "cell_type": "code",
      "execution_count": null,
      "metadata": {
        "ExecuteTime": {
          "end_time": "2020-03-02T16:52:55.164930Z",
          "start_time": "2020-03-02T16:52:54.980982Z"
        },
        "id": "iiBvG6E-Zf2E",
        "outputId": "e02fcb3b-9c05-45d2-e208-47f731338e35"
      },
      "outputs": [
        {
          "name": "stdout",
          "output_type": "stream",
          "text": [
            "**index=1 currentvalue=26\n",
            "   position=1\n",
            "   before shifting[54, 26, 93, 17, 77, 31, 44, 55, 20]\n",
            "   after  shifting[54, 54, 93, 17, 77, 31, 44, 55, 20]\n",
            "**index=2 currentvalue=93\n",
            "**index=3 currentvalue=17\n",
            "   position=3\n",
            "   before shifting[26, 54, 93, 17, 77, 31, 44, 55, 20]\n",
            "   after  shifting[26, 54, 93, 93, 77, 31, 44, 55, 20]\n",
            "   position=2\n",
            "   before shifting[26, 54, 93, 93, 77, 31, 44, 55, 20]\n",
            "   after  shifting[26, 54, 54, 93, 77, 31, 44, 55, 20]\n",
            "   position=1\n",
            "   before shifting[26, 54, 54, 93, 77, 31, 44, 55, 20]\n",
            "   after  shifting[26, 26, 54, 93, 77, 31, 44, 55, 20]\n",
            "**index=4 currentvalue=77\n",
            "   position=4\n",
            "   before shifting[17, 26, 54, 93, 77, 31, 44, 55, 20]\n",
            "   after  shifting[17, 26, 54, 93, 93, 31, 44, 55, 20]\n",
            "**index=5 currentvalue=31\n",
            "   position=5\n",
            "   before shifting[17, 26, 54, 77, 93, 31, 44, 55, 20]\n",
            "   after  shifting[17, 26, 54, 77, 93, 93, 44, 55, 20]\n",
            "   position=4\n",
            "   before shifting[17, 26, 54, 77, 93, 93, 44, 55, 20]\n",
            "   after  shifting[17, 26, 54, 77, 77, 93, 44, 55, 20]\n",
            "   position=3\n",
            "   before shifting[17, 26, 54, 77, 77, 93, 44, 55, 20]\n",
            "   after  shifting[17, 26, 54, 54, 77, 93, 44, 55, 20]\n",
            "**index=6 currentvalue=44\n",
            "   position=6\n",
            "   before shifting[17, 26, 31, 54, 77, 93, 44, 55, 20]\n",
            "   after  shifting[17, 26, 31, 54, 77, 93, 93, 55, 20]\n",
            "   position=5\n",
            "   before shifting[17, 26, 31, 54, 77, 93, 93, 55, 20]\n",
            "   after  shifting[17, 26, 31, 54, 77, 77, 93, 55, 20]\n",
            "   position=4\n",
            "   before shifting[17, 26, 31, 54, 77, 77, 93, 55, 20]\n",
            "   after  shifting[17, 26, 31, 54, 54, 77, 93, 55, 20]\n",
            "**index=7 currentvalue=55\n",
            "   position=7\n",
            "   before shifting[17, 26, 31, 44, 54, 77, 93, 55, 20]\n",
            "   after  shifting[17, 26, 31, 44, 54, 77, 93, 93, 20]\n",
            "   position=6\n",
            "   before shifting[17, 26, 31, 44, 54, 77, 93, 93, 20]\n",
            "   after  shifting[17, 26, 31, 44, 54, 77, 77, 93, 20]\n",
            "**index=8 currentvalue=20\n",
            "   position=8\n",
            "   before shifting[17, 26, 31, 44, 54, 55, 77, 93, 20]\n",
            "   after  shifting[17, 26, 31, 44, 54, 55, 77, 93, 93]\n",
            "   position=7\n",
            "   before shifting[17, 26, 31, 44, 54, 55, 77, 93, 93]\n",
            "   after  shifting[17, 26, 31, 44, 54, 55, 77, 77, 93]\n",
            "   position=6\n",
            "   before shifting[17, 26, 31, 44, 54, 55, 77, 77, 93]\n",
            "   after  shifting[17, 26, 31, 44, 54, 55, 55, 77, 93]\n",
            "   position=5\n",
            "   before shifting[17, 26, 31, 44, 54, 55, 55, 77, 93]\n",
            "   after  shifting[17, 26, 31, 44, 54, 54, 55, 77, 93]\n",
            "   position=4\n",
            "   before shifting[17, 26, 31, 44, 54, 54, 55, 77, 93]\n",
            "   after  shifting[17, 26, 31, 44, 44, 54, 55, 77, 93]\n",
            "   position=3\n",
            "   before shifting[17, 26, 31, 44, 44, 54, 55, 77, 93]\n",
            "   after  shifting[17, 26, 31, 31, 44, 54, 55, 77, 93]\n",
            "   position=2\n",
            "   before shifting[17, 26, 31, 31, 44, 54, 55, 77, 93]\n",
            "   after  shifting[17, 26, 26, 31, 44, 54, 55, 77, 93]\n",
            "[17, 20, 26, 31, 44, 54, 55, 77, 93]\n"
          ]
        }
      ],
      "source": [
        "def insertionSort(alist):\n",
        "   for index in range(1,len(alist)):\n",
        "\n",
        "     currentvalue = alist[index]\n",
        "     position = index\n",
        "     print(f\"**index={index} currentvalue={currentvalue}\")\n",
        "     while position>0 and alist[position-1]>currentvalue:\n",
        "         print(f\"   position={position}\")\n",
        "         print(f\"   before shifting{alist}\")\n",
        "         alist[position]=alist[position-1]\n",
        "         position = position-1\n",
        "         print(f\"   after  shifting{alist}\")\n",
        "\n",
        "     alist[position]=currentvalue\n",
        "\n",
        "aList = [54,26,93,17,77,31,44,55,20]\n",
        "insertionSort(aList)\n",
        "print(aList)"
      ]
    }
  ],
  "metadata": {
    "kernelspec": {
      "display_name": "Python 3",
      "language": "python",
      "name": "python3"
    },
    "language_info": {
      "codemirror_mode": {
        "name": "ipython",
        "version": 3
      },
      "file_extension": ".py",
      "mimetype": "text/x-python",
      "name": "python",
      "nbconvert_exporter": "python",
      "pygments_lexer": "ipython3",
      "version": "3.7.2"
    },
    "latex_envs": {
      "LaTeX_envs_menu_present": true,
      "autoclose": false,
      "autocomplete": true,
      "bibliofile": "biblio.bib",
      "cite_by": "apalike",
      "current_citInitial": 1,
      "eqLabelWithNumbers": true,
      "eqNumInitial": 1,
      "hotkeys": {
        "equation": "Ctrl-E",
        "itemize": "Ctrl-I"
      },
      "labels_anchors": false,
      "latex_user_defs": false,
      "report_style_numbering": false,
      "user_envs_cfg": false
    },
    "nbTranslate": {
      "displayLangs": [
        "en",
        "ko"
      ],
      "hotkey": "alt-t",
      "langInMainMenu": true,
      "sourceLang": "ko",
      "targetLang": "en",
      "useGoogleTranslate": true
    },
    "toc": {
      "base_numbering": 1,
      "nav_menu": {},
      "number_sections": true,
      "sideBar": true,
      "skip_h1_title": false,
      "title_cell": "Table of Contents",
      "title_sidebar": "Contents",
      "toc_cell": false,
      "toc_position": {},
      "toc_section_display": true,
      "toc_window_display": false
    },
    "varInspector": {
      "cols": {
        "lenName": 16,
        "lenType": 16,
        "lenVar": 40
      },
      "kernels_config": {
        "python": {
          "delete_cmd_postfix": "",
          "delete_cmd_prefix": "del ",
          "library": "var_list.py",
          "varRefreshCmd": "print(var_dic_list())"
        },
        "r": {
          "delete_cmd_postfix": ") ",
          "delete_cmd_prefix": "rm(",
          "library": "var_list.r",
          "varRefreshCmd": "cat(var_dic_list()) "
        }
      },
      "types_to_exclude": [
        "module",
        "function",
        "builtin_function_or_method",
        "instance",
        "_Feature"
      ],
      "window_display": false
    },
    "colab": {
      "provenance": [],
      "include_colab_link": true
    }
  },
  "nbformat": 4,
  "nbformat_minor": 0
}